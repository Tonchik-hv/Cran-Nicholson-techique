{
 "cells": [
  {
   "cell_type": "code",
   "execution_count": 199,
   "id": "99f5cf6b",
   "metadata": {},
   "outputs": [],
   "source": [
    "import numpy as np\n",
    "import scipy.sparse as sp\n",
    "import scipy as sc\n",
    "import matplotlib.pyplot as plt\n",
    "import imageio"
   ]
  },
  {
   "cell_type": "code",
   "execution_count": 203,
   "id": "03b5abd3",
   "metadata": {},
   "outputs": [],
   "source": [
    "def Thomas_method(A, f):\n",
    "    '''\n",
    "    method solves the linear system with tridiagonal matrix of coefficients\n",
    "    by using special approach of Gaussian elimination.\n",
    "    Input: A - np.array() of size n-by-n - matrix of the linear system\n",
    "           f - np.array() of size n-by-1 - vector of rhs\n",
    "    Output: x - np.array() of size n-by-1 - solution of the system\n",
    "    '''\n",
    "    n = np.shape(A)[0]\n",
    "    L = np.diag(np.ones(n,dtype='c16'))\n",
    "    U = np.zeros((n,n),dtype='c16')\n",
    "    y = np.zeros(n,dtype='c16')\n",
    "    x = np.zeros(n,dtype='c16')\n",
    "    \n",
    "    U[0,0] = A[0,0]\n",
    "    U[0,1] = A[0,1]\n",
    "    y[0] = f[0]\n",
    "    \n",
    "    for i in range(1,n):\n",
    "        beta_i = A[i,i-1]/U[i-1,i-1]\n",
    "        alpha_i = A[i,i] - beta_i*A[i-1,i]\n",
    "        L[i,i-1] = beta_i\n",
    "        U[i,i] = alpha_i\n",
    "        U[i-1,i] = A[i-1,i]\n",
    "        y[i] = f[i]-beta_i*y[i-1]\n",
    "    \n",
    "    x[n-1] = y[n-1]/U[n-1,n-1]\n",
    "    \n",
    "    for i in range(n-2,-1,-1):\n",
    "        x[i] = (y[i]-A[i,i+1]*x[i+1])/U[i,i]\n",
    "    \n",
    "    return x"
   ]
  },
  {
   "cell_type": "code",
   "execution_count": 55,
   "id": "50a6d8bb",
   "metadata": {},
   "outputs": [],
   "source": [
    "def get_Hamiltonian(dt, dx, x, m=1, hdot=1, potential = 'none'):\n",
    "    '''\n",
    "    returns H - Hamiltonian for lhs and H_rhs - Hamiltonian for rhs parts of Crank-Nicolson method\n",
    "    '''\n",
    "    \n",
    "    dj = 1+1j*dt*hdot/(2*m*dx**2) #elenemts on the main diagonal of H\n",
    "    oj = -1j*dt*hdot/(4*m*dx**2) #elements on the upper and lower diagonal of H\n",
    "    diagonal = np.ones(len(x), dtype=complex)*dj\n",
    "    off_diagonal = np.ones(len(x)-1,dtype = complex)*oj\n",
    "    \n",
    "    H = sp.diags((off_diagonal,diagonal,off_diagonal),[-1,0,1]).toarray()\n",
    "    \n",
    "    dj_rhs = 1-1j*dt*hdot/(2*m*dx**2) #elenemts on the main diagonal of H_rhs\n",
    "    oj_rhs = 1j*dt*hdot/(4*m*dx**2) #elements on the upper and lower diagonal of H_rhs\n",
    "    diagonal_rhs = np.ones(len(x), dtype=complex)*dj\n",
    "    off_diagonal_rhs = np.ones(len(x)-1,dtype = complex)*oj\n",
    "\n",
    "    H_rhs = sp.diags((off_diagonal_rhs,diagonal_rhs,off_diagonal_rhs),[-1,0,1]).toarray()\n",
    "    \n",
    "    if potential == 'none':\n",
    "        return H, H_rhs\n",
    "    \n",
    "    if potential == 'QHO':\n",
    "        V, V_rhs = QHO(dt,x)\n",
    "        \n",
    "        H += V\n",
    "        H_rhs += V_rhs\n",
    "        \n",
    "        return H, H_rhs\n",
    "    \n",
    "    if potential == 'DWP':\n",
    "        V, V_rhs = DWP(x)\n",
    "        \n",
    "        H += V\n",
    "        H_rhs += V_rhs\n",
    "        \n",
    "        return H, H_rhs"
   ]
  },
  {
   "cell_type": "code",
   "execution_count": 56,
   "id": "378b8c2c",
   "metadata": {},
   "outputs": [],
   "source": [
    "def QHO(dt,x, m=1, w=1):\n",
    "    '''\n",
    "    potential of quantum harmonic oscillator\n",
    "    '''\n",
    "    \n",
    "    v_diagonal = np.ones(len(x),dtype=complex)\n",
    "    V = np.diag(v_diagonal)\n",
    "\n",
    "    for ind, xi in enumerate(x):\n",
    "        V[ind,ind] = 1j*dt*m*w**2*x[ind]**2/4\n",
    "    \n",
    "    v_diagonal_rhs = np.ones(len(x),dtype=complex)\n",
    "    V_rhs = np.diag(v_diagonal)\n",
    "\n",
    "    for ind, xi in enumerate(x):\n",
    "        V_rhs[ind,ind] = -1j*dt*m*w**2*x[ind]**2/4 \n",
    "        \n",
    "    return V, V_rhs"
   ]
  },
  {
   "cell_type": "code",
   "execution_count": 57,
   "id": "d00f9a49",
   "metadata": {},
   "outputs": [],
   "source": [
    "def DWP(x,x0=2,a=1):\n",
    "    '''\n",
    "    double well potential\n",
    "    '''\n",
    "    \n",
    "    v_diagonal = np.ones(len(x),dtype=complex)\n",
    "    V = np.diag(v_diagonal)\n",
    "\n",
    "    for ind, xi in enumerate(x):\n",
    "        V[ind,ind] = 1j*dt*a/x0**4*(x[ind]**2-x0**2)**2/2\n",
    "    \n",
    "    v_diagonal_rhs = np.ones(len(x),dtype=complex)\n",
    "    V_rhs = np.diag(v_diagonal)\n",
    "\n",
    "    for ind, xi in enumerate(x):\n",
    "        V_rhs[ind,ind] = -1j*dt*a/x0**4*(x[ind]**2-x0**2)**2/2\n",
    "        \n",
    "    return V, V_rhs"
   ]
  },
  {
   "cell_type": "code",
   "execution_count": 58,
   "id": "3dd9e6ef",
   "metadata": {},
   "outputs": [],
   "source": [
    "def gaus(x,sigma=1,mu=0,p0=0,h=1):\n",
    "    '''\n",
    "    initial conditions at t=0 as Gaussian wave packet\n",
    "    '''\n",
    "    psi = 1/(np.pi**(1/4)*np.sqrt(sigma))*np.exp(-(x-mu)**2/(2*sigma**2))*np.exp(1j*p0*x/h)\n",
    "    return psi"
   ]
  },
  {
   "cell_type": "code",
   "execution_count": 181,
   "id": "f8f3fca7",
   "metadata": {},
   "outputs": [],
   "source": [
    "hdot = 1\n",
    "w = 1\n",
    "m = 1\n",
    "dt = 1\n",
    "dx = 0.1\n",
    "x = np.arange(-10,10,dx)"
   ]
  },
  {
   "cell_type": "code",
   "execution_count": 182,
   "id": "ca26b13f",
   "metadata": {},
   "outputs": [],
   "source": [
    "H,H_rhs = get_Hamiltonian(dt,dx,x,potential=\"none\")"
   ]
  },
  {
   "cell_type": "code",
   "execution_count": 183,
   "id": "27fb7a32",
   "metadata": {},
   "outputs": [],
   "source": [
    "initial_cond = gaus(x,sigma=1)"
   ]
  },
  {
   "cell_type": "code",
   "execution_count": 184,
   "id": "7d0b50b1",
   "metadata": {},
   "outputs": [],
   "source": [
    "b = np.dot(H_rhs,initial_cond)"
   ]
  },
  {
   "cell_type": "code",
   "execution_count": 185,
   "id": "8d62fc11",
   "metadata": {},
   "outputs": [],
   "source": [
    "res = np.zeros((100,len(x)),dtype = complex)\n",
    "res[0,:] = Thomas_method(H,b)\n",
    "\n",
    "for i in range(1,100-1):\n",
    "    res[i,:] = Thomas_method(H,res[i-1,:])"
   ]
  },
  {
   "cell_type": "code",
   "execution_count": 186,
   "id": "f91d9353",
   "metadata": {
    "scrolled": false
   },
   "outputs": [
    {
     "data": {
      "image/png": "[encoded data removed]",
      "text/plain": [
       "<Figure size 640x480 with 1 Axes>"
      ]
     },
     "metadata": {},
     "output_type": "display_data"
    }
   ],
   "source": [
    "for i in range(0,10,1):\n",
    "    plt.plot(x,np.abs(res[i,:])**2, label=f't={i}')\n",
    "plt.legend(loc=2, prop={'size': 5.5})\n",
    "plt.xlabel('x')\n",
    "plt.ylabel('$|\\psi_t|^2$');"
   ]
  },
  {
   "cell_type": "markdown",
   "id": "82e774a6",
   "metadata": {},
   "source": [
    "## 2D Case"
   ]
  },
  {
   "cell_type": "code",
   "execution_count": 1154,
   "id": "033c42de",
   "metadata": {},
   "outputs": [],
   "source": [
    "def get_Hamiltonian2D(x, dt=1, dx=1, m=1, hdot=1, potential = 'none'):\n",
    "    '''\n",
    "    returns H - Hamiltonian for lhs and H_rhs - Hamiltonian for rhs parts of Crank-Nicolson method\n",
    "    '''\n",
    "    \n",
    "    dj = 1+1j*dt*hdot/(2*m*dx**2) #elenemts on the main diagonal of H\n",
    "    oj = -1j*dt*hdot/(4*m*dx**2) #elements on the upper and lower diagonal of H\n",
    "    diagonal = np.ones(len(x), dtype=complex)*dj\n",
    "    off_diagonal = np.ones(len(x)-1,dtype = complex)*oj\n",
    "    \n",
    "    H = sp.diags((off_diagonal,diagonal,off_diagonal),[-1,0,1]).toarray()\n",
    "    \n",
    "    dj_rhs = 1-1j*dt*hdot/(2*m*dx**2) #elenemts on the main diagonal of H_rhs\n",
    "    oj_rhs = 1j*dt*hdot/(4*m*dx**2) #elements on the upper and lower diagonal of H_rhs\n",
    "    diagonal_rhs = np.ones(len(x), dtype=complex)*dj\n",
    "    off_diagonal_rhs = np.ones(len(x)-1,dtype = complex)*oj\n",
    "\n",
    "    H_rhs = sp.diags((off_diagonal_rhs,diagonal_rhs,off_diagonal_rhs),[-1,0,1]).toarray()\n",
    "    \n",
    "    if potential == 'none':\n",
    "        return np.kron(H,H), np.kron(H_rhs,H_rhs)"
   ]
  },
  {
   "cell_type": "code",
   "execution_count": 1011,
   "id": "f947d68b",
   "metadata": {},
   "outputs": [],
   "source": [
    "def gaus2d(x,y,sigma=1,mu=0,p0=0,h=1):\n",
    "    '''\n",
    "    initial conditions at t=0 as Gaussian wave packet\n",
    "    '''\n",
    "    psi = 1/(np.pi**(1/4)*np.sqrt(sigma))*np.exp(-((x-mu)**2 + (y-mu)**2)/(2*sigma**2))*np.exp(1j*p0*x/h)\n",
    "    return psi"
   ]
  },
  {
   "cell_type": "code",
   "execution_count": 1138,
   "id": "1833ba38",
   "metadata": {},
   "outputs": [],
   "source": [
    "hdot = 1\n",
    "w = 1\n",
    "m = 1\n",
    "dt = 1\n",
    "dx = 0.4\n",
    "x = np.arange(-10,10,dx)"
   ]
  },
  {
   "cell_type": "code",
   "execution_count": 1139,
   "id": "b65d74d0",
   "metadata": {},
   "outputs": [
    {
     "name": "stderr",
     "output_type": "stream",
     "text": [
      "C:\\Users\\ivang\\AppData\\Local\\Temp\\ipykernel_17076\\3081082855.py:4: ComplexWarning: Casting complex values to real discards the imaginary part\n",
      "  gaussa_2d[i,j] = gaus2d(xi,xj)\n"
     ]
    }
   ],
   "source": [
    "gaussa_2d = np.empty((len(x),len(x)).dtype = 'c16')\n",
    "for i, xi in enumerate(x):\n",
    "    for j, xj in enumerate(x):\n",
    "        gaussa_2d[i,j] = gaus2d(xi,xj)"
   ]
  },
  {
   "cell_type": "code",
   "execution_count": 1142,
   "id": "99c3be4e",
   "metadata": {},
   "outputs": [
    {
     "data": {
      "text/plain": [
       "(2500, 2500)"
      ]
     },
     "execution_count": 1142,
     "metadata": {},
     "output_type": "execute_result"
    }
   ],
   "source": [
    "H2d,H2d_rhs = get_Hamiltonian2D(x)"
   ]
  },
  {
   "cell_type": "code",
   "execution_count": 1144,
   "id": "e5de0015",
   "metadata": {
    "scrolled": true
   },
   "outputs": [],
   "source": [
    "initial_cond2d=gaussa_2d.flatten()\n",
    "\n",
    "b = np.dot(H2d_rhs,initial_cond2d)"
   ]
  },
  {
   "cell_type": "code",
   "execution_count": 1145,
   "id": "a86a8262",
   "metadata": {},
   "outputs": [],
   "source": [
    "time = 250\n",
    "res = np.zeros((time,len(x)**2),dtype = complex)\n",
    "res[0,:] = sc.linalg.solve(H2d,b)\n",
    "\n",
    "for i in range(1,time):\n",
    "    res[i,:] = sc.linalg.solve(H2d,res[i-1,:])"
   ]
  },
  {
   "cell_type": "code",
   "execution_count": 1148,
   "id": "3d24389c",
   "metadata": {},
   "outputs": [],
   "source": [
    "def pic(M,name):\n",
    "    fig, ax = plt.subplots(figsize=(8,6))\n",
    "    ax.imshow(np.abs(M.reshape(len(x),len(x)))**2)\n",
    "    plt.axis('off')\n",
    "    fig.savefig(name)\n",
    "    plt.close(fig);"
   ]
  },
  {
   "cell_type": "code",
   "execution_count": 1152,
   "id": "73630327",
   "metadata": {},
   "outputs": [],
   "source": [
    "plt.ioff()\n",
    "files = list()\n",
    "for i in range(250):\n",
    "    M = res[i,:]\n",
    "    pic(M,f'{i+99}animation.png')\n",
    "    files.append(f'{i+99}animation.png')\n",
    "    "
   ]
  },
  {
   "cell_type": "code",
   "execution_count": 1153,
   "id": "d78c0f3a",
   "metadata": {},
   "outputs": [
    {
     "name": "stderr",
     "output_type": "stream",
     "text": [
      "C:\\Users\\ivang\\AppData\\Local\\Temp\\ipykernel_17076\\2638318138.py:3: DeprecationWarning: Starting with ImageIO v3 the behavior of this function will switch to that of iio.v3.imread. To keep the current behavior (and make this warning disappear) use `import imageio.v2 as imageio` or call `imageio.v2.imread` directly.\n",
      "  images.append(imageio.imread(file))\n"
     ]
    }
   ],
   "source": [
    "images = list()\n",
    "for file in files:\n",
    "    images.append(imageio.imread(file))\n",
    "imageio.mimsave(f'shr.gif', images, fps = 10);"
   ]
  },
  {
   "cell_type": "code",
   "execution_count": null,
   "id": "6c5c03de",
   "metadata": {},
   "outputs": [],
   "source": []
  }
 ],
 "metadata": {
  "kernelspec": {
   "display_name": "Python 3 (ipykernel)",
   "language": "python",
   "name": "python3"
  },
  "language_info": {
   "codemirror_mode": {
    "name": "ipython",
    "version": 3
   },
   "file_extension": ".py",
   "mimetype": "text/x-python",
   "name": "python",
   "nbconvert_exporter": "python",
   "pygments_lexer": "ipython3",
   "version": "3.10.7"
  }
 },
 "nbformat": 4,
 "nbformat_minor": 5
}
